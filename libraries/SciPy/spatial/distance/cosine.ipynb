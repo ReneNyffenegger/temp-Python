{
 "cells": [
  {
   "cell_type": "code",
   "execution_count": 8,
   "id": "c8e824dd",
   "metadata": {},
   "outputs": [
    {
     "name": "stdout",
     "output_type": "stream",
     "text": [
      "(3,)\n",
      "1.8362929981873375\n",
      "1.8362929981873375\n"
     ]
    }
   ],
   "source": [
    "from scipy import spatial\n",
    "import numpy as np\n",
    "\n",
    "vec_1 = [ 7.1 , 5.3 , -2.4 ]\n",
    "vec_2 = [-9.6 ,-0.8 ,  5.8 ]\n",
    "\n",
    "arr_1 = np.array(vec_1)\n",
    "arr_2 = np.array(vec_2)\n",
    "\n",
    "print(arr_1.shape)\n",
    "\n",
    "print(spatial.distance.cosine( vec_1, vec_2 ))\n",
    "print(spatial.distance.cosine( arr_1, arr_2 ))"
   ]
  }
 ],
 "metadata": {
  "kernelspec": {
   "display_name": "Python 3 (ipykernel)",
   "language": "python",
   "name": "python3"
  },
  "language_info": {
   "codemirror_mode": {
    "name": "ipython",
    "version": 3
   },
   "file_extension": ".py",
   "mimetype": "text/x-python",
   "name": "python",
   "nbconvert_exporter": "python",
   "pygments_lexer": "ipython3",
   "version": "3.9.2"
  }
 },
 "nbformat": 4,
 "nbformat_minor": 5
}
