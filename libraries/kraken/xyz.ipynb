{
 "cells": [
  {
   "cell_type": "code",
   "execution_count": null,
   "metadata": {},
   "outputs": [],
   "source": [
    "#\n",
    "# Copied and adapted from\n",
    "#    https://github.com/SSusantAchary/kraken_ocr_engine\n",
    "#"
   ]
  },
  {
   "cell_type": "code",
   "execution_count": null,
   "metadata": {
    "id": "W4QjDv-mrViQ"
   },
   "outputs": [],
   "source": [
    "import kraken\n",
    "# \n",
    "help(kraken)"
   ]
  },
  {
   "cell_type": "code",
   "execution_count": null,
   "metadata": {
    "id": "hrw6yFD7re7W"
   },
   "outputs": [],
   "source": [
    "from kraken import pageseg\n",
    "help(pageseg)"
   ]
  },
  {
   "cell_type": "markdown",
   "metadata": {
    "id": "kyuyQvWKtws1"
   },
   "source": [
    "# **Replace the image paths for the code to run correctly** \n",
    "Images used from web search just for illustration"
   ]
  },
  {
   "cell_type": "code",
   "execution_count": null,
   "metadata": {
    "colab": {
     "base_uri": "https://localhost:8080/",
     "height": 1000
    },
    "id": "LEo6LgadrhUu",
    "outputId": "892323ec-38db-499d-b0dc-b3f9a4721ec5"
   },
   "outputs": [],
   "source": [
    "# pathToScan='/home/rene/github/temp/scans-for-OCR-tests/mine/tweet-177087971404902428.jpg'\n",
    "pathToScan='/home/rene/github/temp/scans-for-OCR-tests/other-repos/A9T9/Free-OCR-API-CSharp/Test Images/eng-screenshot-verygood.jpg'\n",
    "\n",
    "import os\n",
    "if not os. path. isfile(pathToScan):\n",
    "   raise Exception(f'{pathToScan} does not exist')\n",
    "\n",
    "from PIL import Image\n",
    "im=Image.open(pathToScan)\n",
    "\n",
    "display(im)"
   ]
  },
  {
   "cell_type": "code",
   "execution_count": null,
   "metadata": {},
   "outputs": [],
   "source": [
    "# Lets now convert it to black and white and segment it up into lines with kraken\n",
    "bounding_boxes=pageseg.segment(im.convert('1'))['boxes']\n",
    "\n",
    "# And lets print those lines to the screen\n",
    "print(bounding_boxes)"
   ]
  },
  {
   "cell_type": "code",
   "execution_count": null,
   "metadata": {},
   "outputs": [],
   "source": [
    "#\n",
    "#  https://stackoverflow.com/a/72330215/180275\n",
    "#\n",
    "from kraken import binarization\n",
    "\n",
    "bw_im=binarization.nlbin(im)\n",
    "display(bw_im)\n",
    "\n",
    "seg_data = pageseg.segment(bw_im) # --> Too many connected components for a page image: 131"
   ]
  },
  {
   "cell_type": "code",
   "execution_count": null,
   "metadata": {
    "colab": {
     "base_uri": "https://localhost:8080/",
     "height": 1000
    },
    "id": "N69kAR3ir574",
    "outputId": "bd824865-69a3-4994-9459-78bd73d27b45"
   },
   "outputs": [],
   "source": [
    "def show_boxes(img):\n",
    "    '''Modifies the passed image to show a series of bounding boxes on an image as run by kraken\n",
    "    \n",
    "    :param img: A PIL.Image object\n",
    "    :return img: The modified PIL.Image object\n",
    "    '''\n",
    "    # Lets bring in our ImageDraw object\n",
    "    from PIL import ImageDraw\n",
    "    # And grab a drawing object to annotate that image\n",
    "    drawing_object=ImageDraw.Draw(img)\n",
    "    # We can create a set of boxes using pageseg.segment\n",
    "    bounding_boxes=pageseg.segment(img.convert('1'))['boxes']\n",
    "    # Now lets go through the list of bounding boxes\n",
    "    for box in bounding_boxes:\n",
    "        # An just draw a nice rectangle\n",
    "        drawing_object.rectangle(box, fill = None, outline ='green')\n",
    "    # And to make it easy, lets return\n",
    "    return img\n",
    "\n",
    "\n",
    "display(show_boxes(im))\n",
    "    \n",
    "\n"
   ]
  },
  {
   "cell_type": "code",
   "execution_count": null,
   "metadata": {
    "colab": {
     "base_uri": "https://localhost:8080/"
    },
    "id": "-askwSxksAV2",
    "outputId": "066076d0-253c-4296-dde4-39231706bb26"
   },
   "outputs": [],
   "source": [
    "!wget https://sites.google.com/a/nd.edu/kwiromeo/_/rsrc/1337719081354/archives/features/handwriting/SCAN0001%20-%20Copy.JPG"
   ]
  },
  {
   "cell_type": "code",
   "execution_count": null,
   "metadata": {
    "colab": {
     "base_uri": "https://localhost:8080/",
     "height": 1000
    },
    "id": "laujgkw3sTB2",
    "outputId": "83b93105-4253-4d24-b019-972cbbf75a36"
   },
   "outputs": [],
   "source": [
    "HT_sample = Image.open(\"/content/SCAN0001 - Copy.JPG\")\n",
    "display(HT_sample)\n",
    "bounding_boxes=pageseg.segment(HT_sample.convert('1'))['boxes']\n",
    "# And lets print those lines to the screen\n",
    "print(bounding_boxes)"
   ]
  },
  {
   "cell_type": "code",
   "execution_count": null,
   "metadata": {
    "colab": {
     "base_uri": "https://localhost:8080/",
     "height": 1000
    },
    "id": "DF_ScuWVscBs",
    "outputId": "ba1bbc62-458a-497f-c02f-11d1859bfdfa"
   },
   "outputs": [],
   "source": [
    "display(show_boxes(Image.open(\"/content/SCAN0001 - Copy.JPG\")))"
   ]
  },
  {
   "cell_type": "code",
   "execution_count": null,
   "metadata": {
    "colab": {
     "base_uri": "https://localhost:8080/"
    },
    "id": "vmL7Azttsg4M",
    "outputId": "e3e75453-166d-4e0d-bc57-a6bf0f4133db"
   },
   "outputs": [],
   "source": [
    "!wget https://www.researchgate.net/profile/Pulak_Purkait/publication/221389517/figure/fig1/AS:305415767248921@1449828201937/An-exemplar-of-handwritten-Telugu-document_Q320.jpg"
   ]
  },
  {
   "cell_type": "code",
   "execution_count": null,
   "metadata": {
    "colab": {
     "base_uri": "https://localhost:8080/",
     "height": 348
    },
    "id": "IHIO-eTbsot9",
    "outputId": "aef5c413-2185-4440-db20-fb4c79e5b411"
   },
   "outputs": [],
   "source": [
    "HT_telugu = Image.open(\"/content/An-exemplar-of-handwritten-Telugu-document_Q320.jpg\")\n",
    "display(HT_telugu)\n",
    "bounding_boxes=pageseg.segment(HT_telugu.convert('1'))['boxes']\n",
    "# And lets print those lines to the screen\n",
    "print(bounding_boxes)"
   ]
  },
  {
   "cell_type": "code",
   "execution_count": null,
   "metadata": {
    "colab": {
     "base_uri": "https://localhost:8080/",
     "height": 311
    },
    "id": "advpvJmasq52",
    "outputId": "27dcf01e-b524-4f97-d033-337158f91f65"
   },
   "outputs": [],
   "source": [
    "display(show_boxes(Image.open(\"/content/An-exemplar-of-handwritten-Telugu-document_Q320.jpg\")))"
   ]
  },
  {
   "cell_type": "code",
   "execution_count": null,
   "metadata": {
    "colab": {
     "base_uri": "https://localhost:8080/"
    },
    "id": "31p_18ubsyn9",
    "outputId": "3baa2384-573a-4111-b3fa-c5b90f9c79a5"
   },
   "outputs": [],
   "source": [
    "!wget https://th.bing.com/th/id/R0b8bb226c8ddad7dfbc174626561de16?rik=Te%2f56D94Cere4w&riu=http%3a%2f%2fshannon.mogenweb.org%2fDeath%2520Certificates%2f1912%2520Death%2520Certificates%2fFancher%2c%2520Rosa%2520Lee%2520Pogue_1.jpg&ehk=jVnnpue2i6b3TlNe%2fapai8Nz84pwIi2JeINmsGppAqQ%3d&risl=&pid=ImgRaw"
   ]
  },
  {
   "cell_type": "code",
   "execution_count": null,
   "metadata": {
    "colab": {
     "base_uri": "https://localhost:8080/",
     "height": 1000
    },
    "id": "_sQMeQYRtOXb",
    "outputId": "cb0de26b-ad6d-47d0-e85f-ec42db6eceb8"
   },
   "outputs": [],
   "source": [
    "HT_form = Image.open(\"/content/R0b8bb226c8ddad7dfbc174626561de16?rik=Te%2F56D94Cere4w.jpg\")\n",
    "display(HT_form)\n",
    "bounding_boxes=pageseg.segment(HT_form.convert('1'))['boxes']\n",
    "# And lets print those lines to the screen\n",
    "print(bounding_boxes)"
   ]
  },
  {
   "cell_type": "code",
   "execution_count": null,
   "metadata": {
    "colab": {
     "base_uri": "https://localhost:8080/",
     "height": 1000
    },
    "id": "pEVGFq48tius",
    "outputId": "8dd32d45-814f-4373-f13b-30b914d24d1e"
   },
   "outputs": [],
   "source": [
    "display(show_boxes(Image.open(\"/content/R0b8bb226c8ddad7dfbc174626561de16?rik=Te%2F56D94Cere4w.jpg\")))"
   ]
  },
  {
   "cell_type": "code",
   "execution_count": null,
   "metadata": {
    "id": "w40ETOEjtisL"
   },
   "outputs": [],
   "source": []
  },
  {
   "cell_type": "code",
   "execution_count": null,
   "metadata": {
    "id": "R5sgnOpHtigN"
   },
   "outputs": [],
   "source": []
  }
 ],
 "metadata": {
  "colab": {
   "name": "kraken_OCR_sample_code.ipynb",
   "provenance": []
  },
  "kernelspec": {
   "display_name": "Python 3 (ipykernel)",
   "language": "python",
   "name": "python3"
  },
  "language_info": {
   "codemirror_mode": {
    "name": "ipython",
    "version": 3
   },
   "file_extension": ".py",
   "mimetype": "text/x-python",
   "name": "python",
   "nbconvert_exporter": "python",
   "pygments_lexer": "ipython3",
   "version": "3.11.8"
  }
 },
 "nbformat": 4,
 "nbformat_minor": 4
}
