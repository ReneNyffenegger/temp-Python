{
 "cells": [
  {
   "cell_type": "code",
   "execution_count": null,
   "id": "9073f3e7",
   "metadata": {},
   "outputs": [],
   "source": [
    "#\n",
    "#  Visualizers:\n",
    "#    https://spacy.io/usage/visualizers\n",
    "#\n",
    "import spacy\n",
    "from spacy import displacy"
   ]
  },
  {
   "cell_type": "code",
   "execution_count": null,
   "id": "2ec0e069",
   "metadata": {},
   "outputs": [],
   "source": [
    "s = '''Tokenization is a technique used in natural language processing to\n",
    "break down text into smaller units.\n",
    "\n",
    "Double  spaces and\\ttabulatators are included in this paragraph to demonstrate\n",
    "how such white-space is tokenized.\n",
    "\n",
    "Anow bat rom dalam!\n",
    "\n",
    "Is Zurich the capital of Switzerland?\n",
    "\n",
    "I'll come home on August 28th, 2028.\n",
    "'''"
   ]
  },
  {
   "cell_type": "code",
   "execution_count": null,
   "id": "c51e482b",
   "metadata": {},
   "outputs": [],
   "source": [
    "nlp = spacy.load('en_core_web_sm')\n",
    "doc = nlp(s)"
   ]
  },
  {
   "cell_type": "code",
   "execution_count": null,
   "id": "3fef6712",
   "metadata": {
    "scrolled": true
   },
   "outputs": [],
   "source": [
    "displacy.render(doc, style='ent', jupyter=True)"
   ]
  },
  {
   "cell_type": "code",
   "execution_count": null,
   "id": "fb338088",
   "metadata": {},
   "outputs": [],
   "source": [
    "s = \"She enrolled in the course at the university.\"\n",
    "doc = nlp(s)\n",
    "\n",
    "# Note the 'style' argument is assigned a 'dep' flag this time around.\n",
    "displacy.render(doc, style='dep', jupyter=True)"
   ]
  }
 ],
 "metadata": {
  "kernelspec": {
   "display_name": "Python 3 (ipykernel)",
   "language": "python",
   "name": "python3"
  },
  "language_info": {
   "codemirror_mode": {
    "name": "ipython",
    "version": 3
   },
   "file_extension": ".py",
   "mimetype": "text/x-python",
   "name": "python",
   "nbconvert_exporter": "python",
   "pygments_lexer": "ipython3",
   "version": "3.9.2"
  }
 },
 "nbformat": 4,
 "nbformat_minor": 5
}
