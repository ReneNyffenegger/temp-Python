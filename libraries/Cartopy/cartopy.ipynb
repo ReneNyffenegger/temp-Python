{
 "cells": [
  {
   "cell_type": "code",
   "execution_count": null,
   "id": "a6981d31",
   "metadata": {},
   "outputs": [],
   "source": [
    "# !sudo apt -y install libgeos-dev\n",
    "!pip install cartopy\n",
    "#\n",
    "#         lib/cartopy/trace.cpp:767:10: fatal error: geos_c.h: No such file or directory\n",
    "#   767 | #include \"geos_c.h\"\n",
    "#"
   ]
  },
  {
   "cell_type": "code",
   "execution_count": null,
   "id": "562bd821",
   "metadata": {},
   "outputs": [],
   "source": [
    "\n",
    "import numpy as np\n",
    "import matplotlib.pyplot as plt\n",
    "import cartopy.crs as ccrs\n"
   ]
  },
  {
   "cell_type": "code",
   "execution_count": null,
   "id": "76f4a313",
   "metadata": {},
   "outputs": [],
   "source": [
    "%matplotlib inline\n",
    "# Create a new figure and axes\n",
    "fig = plt.figure(figsize=(8, 8))\n",
    "ax = fig.add_subplot(1, 1, 1, projection=ccrs.Orthographic(central_latitude=50, central_longitude=-100))\n",
    "\n",
    "# Add the Blue Marble image to the map\n",
    "ax.stock_img()\n",
    "\n",
    "# Set the title of the plot\n",
    "ax.set_title('Blue Marble')\n",
    "\n",
    "# Show the plot\n",
    "plt.show()"
   ]
  },
  {
   "cell_type": "code",
   "execution_count": null,
   "id": "0e207854",
   "metadata": {},
   "outputs": [],
   "source": [
    "\n",
    "# Create a new axes object with the Orthographic projection\n",
    "ax = plt.axes(projection=ccrs.Orthographic(central_latitude=47, central_longitude=8))\n",
    "\n",
    "# Add the Blue Marble image to the map\n",
    "ax.stock_img()\n",
    "\n",
    "# Set the title of the plot\n",
    "ax.set_title('Blue Marble')\n",
    "\n",
    "# Show the plot\n",
    "plt.show()\n"
   ]
  },
  {
   "cell_type": "code",
   "execution_count": null,
   "id": "b3854de9",
   "metadata": {},
   "outputs": [],
   "source": [
    "fig = plt.figure(figsize=(10, 5))\n",
    "\n",
    "# Create a new axes object with a specific projection\n",
    "ax = fig.add_subplot(1, 1, 1, projection=ccrs.PlateCarree())\n",
    "\n",
    "# Set the extent of the map to focus on a specific region\n",
    "ax.set_extent([-180, 180, -90, 90], crs=ccrs.PlateCarree())\n",
    "\n",
    "# Add a grid to the map\n",
    "ax.gridlines()\n",
    "\n",
    "# Add some data to the map (in this case, a random set of points)\n",
    "np.random.seed(0)\n",
    "lons = np.random.randint(-180, 180, size=100)\n",
    "lats = np.random.randint(-90, 90, size=100)\n",
    "ax.scatter(lons, lats, transform=ccrs.PlateCarree())\n",
    "\n",
    "# Show the plot\n",
    "plt.show()\n"
   ]
  },
  {
   "cell_type": "code",
   "execution_count": null,
   "id": "9f92abaf",
   "metadata": {},
   "outputs": [],
   "source": [
    "!which python"
   ]
  }
 ],
 "metadata": {
  "kernelspec": {
   "display_name": "Python 3 (ipykernel)",
   "language": "python",
   "name": "python3"
  },
  "language_info": {
   "codemirror_mode": {
    "name": "ipython",
    "version": 3
   },
   "file_extension": ".py",
   "mimetype": "text/x-python",
   "name": "python",
   "nbconvert_exporter": "python",
   "pygments_lexer": "ipython3",
   "version": "3.9.2"
  }
 },
 "nbformat": 4,
 "nbformat_minor": 5
}
