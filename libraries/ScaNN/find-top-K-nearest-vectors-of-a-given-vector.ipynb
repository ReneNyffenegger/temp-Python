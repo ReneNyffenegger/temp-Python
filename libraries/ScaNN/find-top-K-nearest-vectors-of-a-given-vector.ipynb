{
 "cells": [
  {
   "cell_type": "code",
   "execution_count": 2,
   "id": "0584440b-63e7-44d3-b423-6a6a75d27774",
   "metadata": {
    "scrolled": true
   },
   "outputs": [
    {
     "name": "stderr",
     "output_type": "stream",
     "text": [
      "2023-10-18 11:30:10.805269: I tensorflow/tsl/cuda/cudart_stub.cc:28] Could not find cuda drivers on your machine, GPU will not be used.\n",
      "2023-10-18 11:30:10.872308: I tensorflow/tsl/cuda/cudart_stub.cc:28] Could not find cuda drivers on your machine, GPU will not be used.\n",
      "2023-10-18 11:30:10.873178: I tensorflow/core/platform/cpu_feature_guard.cc:182] This TensorFlow binary is optimized to use available CPU instructions in performance-critical operations.\n",
      "To enable the following instructions: AVX2 FMA, in other operations, rebuild TensorFlow with the appropriate compiler flags.\n",
      "2023-10-18 11:30:11.563146: W tensorflow/compiler/tf2tensorrt/utils/py_utils.cc:38] TF-TRT Warning: Could not find TensorRT\n"
     ]
    }
   ],
   "source": [
    "#\n",
    "#   https://medium.com/@DataPlayer/scalable-approximate-nearest-neighbour-search-using-googles-scann-and-facebook-s-faiss-3e84df25ba\n",
    "#\n",
    "import numpy as np\n",
    "import tensorflow as tf\n",
    "import scann\n",
    "import os\n",
    "\n",
    "# Generate a synthetic dataset of 1 million vectors\n",
    "NUM_VECTORS = 1000000\n",
    "VECTOR_DIM  = 128\n",
    "\n",
    "dataset = np.random.randn(NUM_VECTORS, VECTOR_DIM).astype(np.float32)"
   ]
  },
  {
   "cell_type": "code",
   "execution_count": 9,
   "id": "4fd2c117-af63-45fa-9c11-6e135fb6b958",
   "metadata": {},
   "outputs": [
    {
     "data": {
      "text/plain": [
       "array([[ 0.53273886,  0.20877197, -0.13401023, ...,  1.1321068 ,\n",
       "         0.14936765,  2.0898864 ],\n",
       "       [-1.1190106 ,  1.1306709 , -0.73434114, ..., -1.3780754 ,\n",
       "         0.20978712,  0.5911143 ],\n",
       "       [ 0.71972764,  0.57765245, -0.06945786, ...,  0.34756973,\n",
       "        -0.02554608,  1.6132392 ],\n",
       "       ...,\n",
       "       [ 0.21866706, -0.75853896,  0.8017154 , ..., -1.8284234 ,\n",
       "        -0.46315098, -1.6407605 ],\n",
       "       [-0.6338245 , -2.2646642 , -0.13387364, ..., -0.2721559 ,\n",
       "         0.4283607 , -0.30530217],\n",
       "       [-0.05822184,  0.10939038, -1.2444814 , ...,  2.2333908 ,\n",
       "        -0.48894915, -1.8492477 ]], dtype=float32)"
      ]
     },
     "execution_count": 9,
     "metadata": {},
     "output_type": "execute_result"
    }
   ],
   "source": [
    "dataset"
   ]
  },
  {
   "cell_type": "code",
   "execution_count": 4,
   "id": "f408b0a2-b979-4899-bdec-923fb4f7694a",
   "metadata": {},
   "outputs": [
    {
     "data": {
      "text/plain": [
       "1000000"
      ]
     },
     "execution_count": 4,
     "metadata": {},
     "output_type": "execute_result"
    }
   ],
   "source": [
    "len(dataset)"
   ]
  },
  {
   "cell_type": "code",
   "execution_count": 5,
   "id": "0144532f-93e6-4d7f-a781-8186e283ae66",
   "metadata": {},
   "outputs": [
    {
     "data": {
      "text/plain": [
       "numpy.ndarray"
      ]
     },
     "execution_count": 5,
     "metadata": {},
     "output_type": "execute_result"
    }
   ],
   "source": [
    "type(dataset)"
   ]
  },
  {
   "cell_type": "code",
   "execution_count": 7,
   "id": "0088562c-3087-4683-9f07-5628669be60a",
   "metadata": {
    "scrolled": true
   },
   "outputs": [
    {
     "data": {
      "text/plain": [
       "array([ 0.53273886,  0.20877197, -0.13401023, -0.4969735 , -1.460248  ,\n",
       "       -0.45971847, -0.5590802 , -1.4309138 ,  1.2534372 , -0.2962945 ,\n",
       "       -1.4032303 ,  0.10832689,  0.7683947 , -0.6894984 ,  0.45465046,\n",
       "       -1.3447602 ,  0.12526636, -0.5624886 ,  0.89817643, -0.9612799 ,\n",
       "        1.3090175 , -0.26053992, -0.68672836,  1.982428  ,  0.71417433,\n",
       "       -1.341766  ,  0.39680555,  0.67695   ,  0.66589975, -1.5169811 ,\n",
       "        0.2532839 ,  1.4627436 ,  0.65193504, -0.02118386,  1.1397831 ,\n",
       "       -0.5068141 ,  1.8237536 ,  0.9578784 , -0.7903269 ,  1.6935039 ,\n",
       "       -0.37883702, -0.710244  , -0.25525364, -0.46150902,  0.67734075,\n",
       "       -0.80032694, -1.0309495 ,  0.79071707,  0.6638751 ,  1.7183176 ,\n",
       "       -0.13483477, -0.2653128 ,  1.4478605 , -0.16392525, -1.1000438 ,\n",
       "        1.146045  ,  0.05218043,  1.033244  , -0.8441918 , -0.2220067 ,\n",
       "       -0.3302139 ,  0.33130682,  1.522045  , -1.738253  , -1.0906689 ,\n",
       "        0.15306094, -0.44061014, -0.4192783 ,  1.5171627 ,  0.29688427,\n",
       "       -0.1441954 ,  0.5183404 ,  0.6040709 ,  0.46411794, -0.04478793,\n",
       "       -0.0057278 , -0.03532943, -1.3139571 ,  0.9198301 , -2.6449387 ,\n",
       "       -0.10638306,  0.70055044,  0.4898299 ,  0.2667467 ,  2.80064   ,\n",
       "       -0.45089927, -0.6169859 ,  0.47727108,  0.23866089, -1.3414273 ,\n",
       "       -0.31401804,  0.599589  ,  0.39028943,  0.7426284 , -0.16604382,\n",
       "       -0.3431243 ,  1.1975349 ,  1.0408213 , -1.563101  , -0.18641558,\n",
       "        0.555339  , -0.5280518 ,  1.1620549 , -0.02937279, -0.4184225 ,\n",
       "       -0.0342657 ,  0.7882292 ,  0.11585507, -1.1555948 ,  0.12287129,\n",
       "        0.6735254 ,  1.9699231 ,  0.44070858, -0.31085148, -0.93187886,\n",
       "       -0.6785606 , -2.0834062 , -0.71023536,  0.8261449 ,  1.1426579 ,\n",
       "       -2.4212995 , -0.0457284 , -0.6780602 ,  0.44014806, -0.45075366,\n",
       "        1.1321068 ,  0.14936765,  2.0898864 ], dtype=float32)"
      ]
     },
     "execution_count": 7,
     "metadata": {},
     "output_type": "execute_result"
    }
   ],
   "source": [
    "dataset[0]"
   ]
  },
  {
   "cell_type": "code",
   "execution_count": 8,
   "id": "be6113e0-253c-4608-8e7f-6fcba63cd58b",
   "metadata": {},
   "outputs": [
    {
     "data": {
      "text/plain": [
       "10.881542"
      ]
     },
     "execution_count": 8,
     "metadata": {},
     "output_type": "execute_result"
    }
   ],
   "source": [
    " np.linalg.norm(dataset[0])"
   ]
  },
  {
   "cell_type": "code",
   "execution_count": 13,
   "id": "4a86ec79-dbbc-4250-aa37-0831c78d09bd",
   "metadata": {},
   "outputs": [
    {
     "name": "stderr",
     "output_type": "stream",
     "text": [
      "2023-10-18 12:56:29.896255: I scann/partitioning/partitioner_factory_base.cc:59] Size of sampled dataset for training partition: 249544\n",
      "2023-10-18 12:56:37.121914: I ./scann/partitioning/kmeans_tree_partitioner_utils.h:84] PartitionerFactory ran in 7.225513822s.\n"
     ]
    }
   ],
   "source": [
    "#\n",
    "# Build a ScaNN index with L2 distance metric and 10 random projection hash tables\n",
    "#\n",
    "# scann_ops_pybind.builder is a method in the ScaNN library that is used to create a ScannBuilder object.\n",
    "#\n",
    "# The builder() method returns a ScannBuilder object,\n",
    "# which can be used to specify additional parameters such as\n",
    "#  - the number of projection hash tables to use and\n",
    "#  - the number of leaves in the hierarchical tree used to organize the data. \n",
    "\n",
    "# By default, ScaNN builds a k-means tree, where each leaf node represents a\n",
    "# cluster of vectors.\n",
    "# The .tree() method can be used to further split or merge these clusters to\n",
    "# optimize the search performance.\n",
    "\n",
    "searcher = scann.scann_ops_pybind.builder(\n",
    "    dataset,                             # numpy array containing the data points to be indexed\n",
    "    num_neighbors    =  10,              # the number of neighbors to search for\n",
    "    distance_measure = \"squared_l2\"      # the distance metric to use (e.g., 'dot_product' or 'squared_l2')\n",
    ").tree(                                  # .tree() is a method that can be used after(?) calling .build() to further refine the tree structure of the index. .tree() allows us to fine-tune the tree structure of the index to optimize the search performance for a given dataset and use case. It takes several arguments: \n",
    "    num_leaves           =   2000,       # num_leaves: the maximum number of leaves in the tree . This can be used to control the balance between search speed and memory usage. Increasing num_leaves will improve the search accuracy but also increase the memory usage.\n",
    "    num_leaves_to_search =    100,       #num_leaves_to_search: the number of leaves to search during the query phase\n",
    "    training_sample_size = 250000        # training_sample_size: the number of vectors to use for training the tree.\n",
    ").score_ah(                              # score_ah() is a method in ScaNN that sets the parameters for the asymmetric hash function used in the indexing process. It is called after .tree() because the tree structure is required to set these parameters.\n",
    "    2,                                   # num_neighbors sets the number of neighbors to consider when selecting the threshold for asymmetric hashing   \n",
    "    anisotropic_quantization_threshold = 0.2 # anisotropic_quantization_threshold controls how many different quantization levels to use for each dimension in the hash function (smaller values generally resulting in better accuracy at the cost of higher indexing time and memory usage.)\n",
    ").reorder(\n",
    "    100\n",
    ").build()  # Finally, the ScannBuilder object's build() method is called to create the index."
   ]
  },
  {
   "cell_type": "code",
   "execution_count": 14,
   "id": "0c2f78f2-6f2d-4972-a9e8-47d2c12b1e29",
   "metadata": {},
   "outputs": [],
   "source": [
    "# Create a directory for the serialized index\n",
    "\n",
    "if not os.path.exists(\"scann_index\"):\n",
    "    os.makedirs(\"scann_index\")\n"
   ]
  },
  {
   "cell_type": "code",
   "execution_count": 4,
   "id": "e986d45b-05cd-4b22-a3c1-3feb0b7dcc67",
   "metadata": {},
   "outputs": [],
   "source": [
    "# Save the index to disk\n",
    "\n",
    "searcher.serialize(\"scann_index\")"
   ]
  },
  {
   "cell_type": "code",
   "execution_count": 15,
   "id": "08fc78fb-f72b-4daa-ba32-07fd9085218f",
   "metadata": {},
   "outputs": [],
   "source": [
    "# Load the index from disk\n",
    "searcher = scann.scann_ops_pybind.load_searcher(\"scann_index/\")"
   ]
  },
  {
   "cell_type": "code",
   "execution_count": 16,
   "id": "f8d64b2c-5c62-4aba-943d-a633a1274e10",
   "metadata": {},
   "outputs": [],
   "source": [
    "# Generate a query vector\n",
    "query_vector = np.random.randn(VECTOR_DIM).astype(np.float32)"
   ]
  },
  {
   "cell_type": "code",
   "execution_count": 17,
   "id": "10c76ada-1a88-4e67-afd0-860496145c69",
   "metadata": {},
   "outputs": [],
   "source": [
    "# Find the top 10 nearest neighbors of the query vector\n",
    "neighbors, distances = searcher.search(query_vector, final_num_neighbors=10)"
   ]
  },
  {
   "cell_type": "code",
   "execution_count": 18,
   "id": "02c5bdbe-5674-4130-933f-e2d4643c8788",
   "metadata": {},
   "outputs": [
    {
     "data": {
      "text/plain": [
       "10"
      ]
     },
     "execution_count": 18,
     "metadata": {},
     "output_type": "execute_result"
    }
   ],
   "source": [
    "len(neighbors)"
   ]
  },
  {
   "cell_type": "code",
   "execution_count": 9,
   "id": "212b1752-c6ad-40a9-bc04-dc46f17179a4",
   "metadata": {},
   "outputs": [
    {
     "data": {
      "text/plain": [
       "(array([732276, 981817, 598507, 510868, 730527,   2208, 122018, 973694,\n",
       "        741261, 231291], dtype=uint32),\n",
       " array([150.53412, 154.43344, 156.3534 , 156.4636 , 158.85886, 163.04324,\n",
       "        163.57863, 163.59833, 163.9052 , 164.5318 ], dtype=float32))"
      ]
     },
     "execution_count": 9,
     "metadata": {},
     "output_type": "execute_result"
    }
   ],
   "source": [
    "# neighbours is an array of indexes for nearest neighbors. distances is an array with their corresponding squared_L2 distances\n",
    "neighbors,distances"
   ]
  },
  {
   "cell_type": "code",
   "execution_count": null,
   "id": "cdb9492e-6f83-4ae3-bacd-4c654c913fda",
   "metadata": {},
   "outputs": [],
   "source": []
  },
  {
   "cell_type": "code",
   "execution_count": null,
   "id": "e3e26b60-75c0-4746-a849-30ce10c811fe",
   "metadata": {},
   "outputs": [],
   "source": []
  }
 ],
 "metadata": {
  "kernelspec": {
   "display_name": "Python 3 (ipykernel)",
   "language": "python",
   "name": "python3"
  },
  "language_info": {
   "codemirror_mode": {
    "name": "ipython",
    "version": 3
   },
   "file_extension": ".py",
   "mimetype": "text/x-python",
   "name": "python",
   "nbconvert_exporter": "python",
   "pygments_lexer": "ipython3",
   "version": "3.11.2"
  }
 },
 "nbformat": 4,
 "nbformat_minor": 5
}
