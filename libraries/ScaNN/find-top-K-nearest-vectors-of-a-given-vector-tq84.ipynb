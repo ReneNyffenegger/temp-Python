{
 "cells": [
  {
   "cell_type": "code",
   "execution_count": 1,
   "id": "47245815-cfb5-4cb4-8461-0f25da2ae442",
   "metadata": {},
   "outputs": [
    {
     "name": "stderr",
     "output_type": "stream",
     "text": [
      "2023-10-18 20:17:47.872718: I tensorflow/tsl/cuda/cudart_stub.cc:28] Could not find cuda drivers on your machine, GPU will not be used.\n",
      "2023-10-18 20:17:47.909078: I tensorflow/tsl/cuda/cudart_stub.cc:28] Could not find cuda drivers on your machine, GPU will not be used.\n",
      "2023-10-18 20:17:47.910099: I tensorflow/core/platform/cpu_feature_guard.cc:182] This TensorFlow binary is optimized to use available CPU instructions in performance-critical operations.\n",
      "To enable the following instructions: AVX2 FMA, in other operations, rebuild TensorFlow with the appropriate compiler flags.\n",
      "2023-10-18 20:17:48.578947: W tensorflow/compiler/tf2tensorrt/utils/py_utils.cc:38] TF-TRT Warning: Could not find TensorRT\n"
     ]
    }
   ],
   "source": [
    "import numpy as np\n",
    "import scann"
   ]
  },
  {
   "cell_type": "code",
   "execution_count": 2,
   "id": "cd3df24d-b640-4a74-a393-929546962499",
   "metadata": {},
   "outputs": [],
   "source": [
    "v1 = np.array([\n",
    "        np.array([\n",
    "           np.random.normal(1, 0.01),\n",
    "           np.random.normal(0, 0.01),\n",
    "           np.random.normal(0, 0.01)\n",
    "        ])\n",
    "        for _ in range(1000000)\n",
    "     ]).astype(np.float32)\n",
    "\n",
    "v2 = np.array([\n",
    "        np.array([\n",
    "           np.random.normal(0, 0.01),\n",
    "           np.random.normal(1, 0.01),\n",
    "           np.random.normal(0, 0.01)\n",
    "        ])\n",
    "        for _ in range(1000000)\n",
    "     ]).astype(np.float32)\n",
    "\n",
    "v3 = np.array([\n",
    "        np.array([\n",
    "           np.random.normal(0, 0.01),\n",
    "           np.random.normal(0, 0.01),\n",
    "           np.random.normal(1, 0.01)\n",
    "        ])\n",
    "        for _ in range(1000000)\n",
    "     ]).astype(np.float32)\n",
    "    "
   ]
  },
  {
   "cell_type": "code",
   "execution_count": 13,
   "id": "7d8e4048-a737-447a-9075-fa719d9f6cec",
   "metadata": {},
   "outputs": [],
   "source": [
    "needle = np.array([np.array([\n",
    "     np.random.normal( 50, 1),\n",
    "     np.random.normal( 5, 1),\n",
    "     np.random.normal( 5, 1)\n",
    "])])"
   ]
  },
  {
   "cell_type": "code",
   "execution_count": 32,
   "id": "5fa41c90-fb09-412a-911b-23a0bd710769",
   "metadata": {},
   "outputs": [],
   "source": [
    "needles = np.array([\n",
    "       np.array([\n",
    "          np.random.normal(0.5, 0.01),\n",
    "          np.random.normal(0.5, 0.01),\n",
    "          np.random.normal(0.5, 0.01)\n",
    "     ])\n",
    "     for _ in range(10000)\n",
    "   ]).astype(np.float32)"
   ]
  },
  {
   "cell_type": "code",
   "execution_count": 43,
   "id": "7a986e40-38c1-4e18-92a1-e939e17906d8",
   "metadata": {
    "scrolled": true
   },
   "outputs": [
    {
     "data": {
      "text/plain": [
       "array([[ 1.0048490e+00,  5.4896348e-03, -2.5233938e-04],\n",
       "       [ 9.9792808e-01, -1.4496710e-02, -1.7778460e-02],\n",
       "       [ 1.0066119e+00,  1.2334182e-03, -1.1015638e-02],\n",
       "       ...,\n",
       "       [ 9.8896122e-01,  1.4003148e-02, -1.7085336e-02],\n",
       "       [ 1.0089171e+00,  5.8191470e-03,  1.0911878e-02],\n",
       "       [ 1.0004807e+00,  4.2558564e-03,  4.3928805e-03]], dtype=float32)"
      ]
     },
     "execution_count": 43,
     "metadata": {},
     "output_type": "execute_result"
    }
   ],
   "source": [
    "v1"
   ]
  },
  {
   "cell_type": "code",
   "execution_count": 44,
   "id": "c2364d70-ccea-4de9-933c-34fbfaa1d622",
   "metadata": {
    "scrolled": true
   },
   "outputs": [
    {
     "data": {
      "text/plain": [
       "array([[0.50668997, 0.49476546, 0.4976623 ],\n",
       "       [0.5019856 , 0.49950767, 0.4896393 ],\n",
       "       [0.478739  , 0.5125522 , 0.50982255],\n",
       "       [0.5002537 , 0.50475055, 0.49833453],\n",
       "       [0.4955774 , 0.5012077 , 0.5020446 ],\n",
       "       [0.5006375 , 0.5158877 , 0.5126605 ],\n",
       "       [0.4993733 , 0.5067963 , 0.5067914 ],\n",
       "       [0.50668764, 0.5216731 , 0.48337948],\n",
       "       [0.48838416, 0.50161755, 0.51198953],\n",
       "       [0.5077985 , 0.5093175 , 0.49403498],\n",
       "       [0.5093168 , 0.49968508, 0.5044789 ],\n",
       "       [0.4954973 , 0.49925476, 0.5039986 ],\n",
       "       [0.50324386, 0.49592525, 0.5170309 ],\n",
       "       [0.50945413, 0.49632406, 0.4999179 ],\n",
       "       [0.4988666 , 0.5184686 , 0.51286435],\n",
       "       [0.49443594, 0.48943165, 0.4990468 ],\n",
       "       [0.4979467 , 0.50186145, 0.49763203],\n",
       "       [0.49115303, 0.5038771 , 0.51311314],\n",
       "       [0.49943948, 0.48016524, 0.51119214],\n",
       "       [0.49474666, 0.5011874 , 0.4982313 ],\n",
       "       [0.5044573 , 0.5016428 , 0.47942066],\n",
       "       [0.48673788, 0.49796268, 0.49918395],\n",
       "       [0.5014824 , 0.50541276, 0.4918351 ],\n",
       "       [0.50083625, 0.5081552 , 0.49339467],\n",
       "       [0.48958078, 0.489473  , 0.5003971 ],\n",
       "       [0.49074736, 0.4929323 , 0.49202982],\n",
       "       [0.5054863 , 0.5018399 , 0.495359  ],\n",
       "       [0.49450365, 0.5253693 , 0.5043623 ],\n",
       "       [0.49893573, 0.50965554, 0.50851786],\n",
       "       [0.48575482, 0.48328778, 0.5044213 ],\n",
       "       [0.5015338 , 0.49229038, 0.50076234],\n",
       "       [0.50668544, 0.50359386, 0.50127685],\n",
       "       [0.50786227, 0.48591146, 0.4920148 ],\n",
       "       [0.49017635, 0.5116374 , 0.49279332],\n",
       "       [0.501795  , 0.48888114, 0.5085019 ],\n",
       "       [0.47034964, 0.4964192 , 0.5120656 ],\n",
       "       [0.49674985, 0.50963706, 0.5176868 ],\n",
       "       [0.4961101 , 0.50318676, 0.5113043 ],\n",
       "       [0.4836193 , 0.49083176, 0.47582436],\n",
       "       [0.49790934, 0.4990875 , 0.5145821 ],\n",
       "       [0.512575  , 0.49098653, 0.48294142],\n",
       "       [0.49005774, 0.504643  , 0.5144946 ],\n",
       "       [0.4887258 , 0.5071984 , 0.509573  ],\n",
       "       [0.5187531 , 0.5154675 , 0.5209732 ],\n",
       "       [0.49979976, 0.50496614, 0.48880112],\n",
       "       [0.5079833 , 0.4919641 , 0.48968795],\n",
       "       [0.49345255, 0.50208914, 0.48816118],\n",
       "       [0.4884007 , 0.50694346, 0.49355   ],\n",
       "       [0.5083646 , 0.5007523 , 0.4957955 ],\n",
       "       [0.5065341 , 0.49707535, 0.49254134],\n",
       "       [0.4876361 , 0.5005877 , 0.5163232 ],\n",
       "       [0.4815593 , 0.49333388, 0.4913662 ],\n",
       "       [0.48748437, 0.5141723 , 0.5089634 ],\n",
       "       [0.4989373 , 0.48657852, 0.51231956],\n",
       "       [0.48765084, 0.5108932 , 0.48678234],\n",
       "       [0.48867714, 0.49750212, 0.4991654 ],\n",
       "       [0.4954304 , 0.49631146, 0.52542096],\n",
       "       [0.49198112, 0.51625824, 0.49979943],\n",
       "       [0.5059247 , 0.50350195, 0.517183  ],\n",
       "       [0.49426153, 0.4883642 , 0.48849085],\n",
       "       [0.4987726 , 0.5002049 , 0.49528036],\n",
       "       [0.5047282 , 0.50907326, 0.48959136],\n",
       "       [0.4956478 , 0.48281184, 0.5110448 ],\n",
       "       [0.51095194, 0.48438007, 0.5017254 ],\n",
       "       [0.520444  , 0.4843638 , 0.5042101 ],\n",
       "       [0.4884201 , 0.5107559 , 0.5133758 ],\n",
       "       [0.50922316, 0.4898685 , 0.49891222],\n",
       "       [0.48910412, 0.53126717, 0.48956335],\n",
       "       [0.49048084, 0.50354296, 0.4965913 ],\n",
       "       [0.5082481 , 0.5146136 , 0.5027602 ],\n",
       "       [0.50516784, 0.50783485, 0.5086138 ],\n",
       "       [0.4719772 , 0.50835764, 0.49291077],\n",
       "       [0.5072583 , 0.50375795, 0.49598223],\n",
       "       [0.4947104 , 0.50069475, 0.49739656],\n",
       "       [0.49813747, 0.49876243, 0.508606  ],\n",
       "       [0.5131265 , 0.5135262 , 0.49509147],\n",
       "       [0.50673383, 0.5173207 , 0.51545846],\n",
       "       [0.5148699 , 0.49337474, 0.48855188],\n",
       "       [0.4931106 , 0.51618814, 0.51367056],\n",
       "       [0.46996838, 0.5150944 , 0.50917137],\n",
       "       [0.48971123, 0.5020043 , 0.49265572],\n",
       "       [0.5072602 , 0.5231693 , 0.5049691 ],\n",
       "       [0.50346726, 0.5046899 , 0.48812178],\n",
       "       [0.50542116, 0.50742215, 0.49255577],\n",
       "       [0.49288005, 0.505543  , 0.4856496 ],\n",
       "       [0.4830455 , 0.5033829 , 0.49531546],\n",
       "       [0.49061364, 0.5006897 , 0.5017203 ],\n",
       "       [0.4991542 , 0.49412584, 0.5017769 ],\n",
       "       [0.5132172 , 0.49227697, 0.49979267],\n",
       "       [0.4839738 , 0.49567008, 0.49056822],\n",
       "       [0.49843705, 0.49377015, 0.49899152],\n",
       "       [0.50335383, 0.5120772 , 0.49307722],\n",
       "       [0.49478704, 0.49308723, 0.48465276],\n",
       "       [0.52315813, 0.49661335, 0.48783275],\n",
       "       [0.5231325 , 0.51932025, 0.49078038],\n",
       "       [0.5061056 , 0.4868376 , 0.4957367 ],\n",
       "       [0.50289583, 0.51026464, 0.49930474],\n",
       "       [0.51100415, 0.47756705, 0.4998359 ],\n",
       "       [0.5053109 , 0.49688548, 0.4981171 ],\n",
       "       [0.48920274, 0.49883524, 0.50501466]], dtype=float32)"
      ]
     },
     "execution_count": 44,
     "metadata": {},
     "output_type": "execute_result"
    }
   ],
   "source": [
    "needles"
   ]
  },
  {
   "cell_type": "code",
   "execution_count": 33,
   "id": "c6553caa-4431-4e77-a0c6-66c88cf2f675",
   "metadata": {
    "scrolled": true
   },
   "outputs": [],
   "source": [
    "data = np.concatenate( (v1, v2, v3, needles) )"
   ]
  },
  {
   "cell_type": "code",
   "execution_count": 51,
   "id": "de807a33-78a5-49ca-bff5-e40db02d2291",
   "metadata": {},
   "outputs": [],
   "source": [
    "np.random.shuffle(data)"
   ]
  },
  {
   "cell_type": "code",
   "execution_count": 34,
   "id": "35b11b84-59ee-43d3-bc02-41065fd1cf13",
   "metadata": {},
   "outputs": [],
   "source": [
    "builder = scann.scann_ops_pybind.builder(\n",
    "    data,                             # numpy array containing the data points to be indexed\n",
    "    num_neighbors        =  10,              # the number of neighbors to search for\n",
    "    distance_measure     = \"squared_l2\"      # the distance metric to use (e.g., 'dot_product' or 'squared_l2')\n",
    ")"
   ]
  },
  {
   "cell_type": "code",
   "execution_count": 63,
   "id": "bdce9f8d-6601-41bd-a9e9-80ca3d7920e5",
   "metadata": {},
   "outputs": [
    {
     "data": {
      "text/plain": [
       "scann.scann_ops.py.scann_builder.ScannBuilder"
      ]
     },
     "execution_count": 63,
     "metadata": {},
     "output_type": "execute_result"
    }
   ],
   "source": [
    "type(builder) # scann.scann_ops.py.scann_builder.ScannBuilder"
   ]
  },
  {
   "cell_type": "code",
   "execution_count": 35,
   "id": "ddd20c9d-1223-4cc3-ab65-91080b5b05c3",
   "metadata": {},
   "outputs": [],
   "source": [
    "builder = builder.tree(                                  # .tree() is a method that can be used after(?) calling .build() to further refine the tree structure of the index. .tree() allows us to fine-tune the tree structure of the index to optimize the search performance for a given dataset and use case. It takes several arguments: \n",
    "    num_leaves           =   10000,          # num_leaves: the maximum number of leaves in the tree . This can be used to control the balance between search speed and memory usage. Increasing num_leaves will improve the search accuracy but also increase the memory usage.\n",
    "    num_leaves_to_search =   10000,          #num_leaves_to_search: the number of leaves to search during the query phase\n",
    "    training_sample_size = 1000000           # training_sample_size: the number of vectors to use for training the tree.\n",
    ")"
   ]
  },
  {
   "cell_type": "code",
   "execution_count": 29,
   "id": "4e5ba80b-dd74-4220-89ea-753a6c4e9ea5",
   "metadata": {},
   "outputs": [
    {
     "data": {
      "text/plain": [
       "scann.scann_ops.py.scann_builder.ScannBuilder"
      ]
     },
     "execution_count": 29,
     "metadata": {},
     "output_type": "execute_result"
    }
   ],
   "source": [
    "type(builder) # scann.scann_ops.py.scann_builder.ScannBuilder"
   ]
  },
  {
   "cell_type": "code",
   "execution_count": 36,
   "id": "6aa1e8ea-d458-4797-8043-02abd6758b2f",
   "metadata": {},
   "outputs": [],
   "source": [
    "builder = builder.score_ah(                              # score_ah() is a method in ScaNN that sets the parameters for the asymmetric hash function used in the indexing process. It is called after .tree() because the tree structure is required to set these parameters.\n",
    "    10000,                                   # num_neighbors sets the number of neighbors to consider when selecting the threshold for asymmetric hashing   \n",
    "    anisotropic_quantization_threshold = 0.001 # anisotropic_quantization_threshold controls how many different quantization levels to use for each dimension in the hash function (maller values generally resulting in better accuracy at the cost of higher indexing time and memory usage.)\n",
    ")"
   ]
  },
  {
   "cell_type": "code",
   "execution_count": 32,
   "id": "1b7a6c2e-119f-41c8-b3a2-c4cac74ffd1d",
   "metadata": {},
   "outputs": [
    {
     "data": {
      "text/plain": [
       "scann.scann_ops.py.scann_builder.ScannBuilder"
      ]
     },
     "execution_count": 32,
     "metadata": {},
     "output_type": "execute_result"
    }
   ],
   "source": [
    "type(builder) # scann.scann_ops.py.scann_builder.ScannBuilder"
   ]
  },
  {
   "cell_type": "code",
   "execution_count": 37,
   "id": "7cb1129b-7ec7-4dc3-94e9-36b6712168d1",
   "metadata": {},
   "outputs": [],
   "source": [
    "builder = builder.reorder(\n",
    "    1000\n",
    ")"
   ]
  },
  {
   "cell_type": "code",
   "execution_count": 35,
   "id": "b9299583-2d71-425a-a33a-d07c2fd5f090",
   "metadata": {},
   "outputs": [
    {
     "data": {
      "text/plain": [
       "scann.scann_ops.py.scann_builder.ScannBuilder"
      ]
     },
     "execution_count": 35,
     "metadata": {},
     "output_type": "execute_result"
    }
   ],
   "source": [
    "type(builder) # scann.scann_ops.py.scann_builder.ScannBuilder"
   ]
  },
  {
   "cell_type": "code",
   "execution_count": 38,
   "id": "61ea3bea-625b-41fc-9183-ef425c6eb6b2",
   "metadata": {},
   "outputs": [
    {
     "name": "stderr",
     "output_type": "stream",
     "text": [
      "2023-10-18 20:22:38.909349: I scann/partitioning/partitioner_factory_base.cc:59] Size of sampled dataset for training partition: 999787\n",
      "2023-10-18 20:22:59.349839: I ./scann/partitioning/kmeans_tree_partitioner_utils.h:84] PartitionerFactory ran in 20.440383133s.\n"
     ]
    }
   ],
   "source": [
    "searcher = builder.build()"
   ]
  },
  {
   "cell_type": "code",
   "execution_count": 15,
   "id": "c09c2951-d700-4f84-8c5e-5be535e3fa11",
   "metadata": {},
   "outputs": [
    {
     "data": {
      "text/plain": [
       "scann.scann_ops.py.scann_ops_pybind.ScannSearcher"
      ]
     },
     "execution_count": 15,
     "metadata": {},
     "output_type": "execute_result"
    }
   ],
   "source": [
    "type(searcher) # scann.scann_ops.py.scann_ops_pybind.ScannSearcher"
   ]
  },
  {
   "cell_type": "code",
   "execution_count": 16,
   "id": "0b020c01-73c0-42a9-9576-b1e62d7431b1",
   "metadata": {},
   "outputs": [
    {
     "name": "stdout",
     "output_type": "stream",
     "text": [
      "`__class__` ☰ ?\n",
      "`__delattr__` ☰ ?\n",
      "`__dict__` ☰ `dict` object\n",
      "`__dir__()` ☰ Built-in function\n",
      "`__doc__` ☰ `str` object\n",
      "`__eq__` ☰ ?\n",
      "`__format__()` ☰ Built-in function\n",
      "`__ge__` ☰ ?\n",
      "`__getattribute__` ☰ ?\n",
      "`__getstate__()` ☰ Built-in function\n",
      "`__gt__` ☰ ?\n",
      "`__hash__` ☰ ?\n",
      "`__init__()` ☰ Class method\n",
      "`__init_subclass__()` ☰ Built-in function\n",
      "`__le__` ☰ ?\n",
      "`__lt__` ☰ ?\n",
      "`__module__` ☰ `str` object\n",
      "`__ne__` ☰ ?\n",
      "`__new__()` ☰ Built-in function\n",
      "`__reduce__()` ☰ Built-in function\n",
      "`__reduce_ex__()` ☰ Built-in function\n",
      "`__repr__` ☰ ?\n",
      "`search()` ☰ Class method\n",
      "`search_batched()` ☰ Class method\n",
      "`search_batched_parallel()` ☰ Class method\n",
      "`searcher` ☰ ?\n",
      "`serialize()` ☰ Class method\n",
      "`__setattr__` ☰ ?\n",
      "`__sizeof__()` ☰ Built-in function\n",
      "`__str__` ☰ ?\n",
      "`__subclasshook__()` ☰ Built-in function\n",
      "`__weakref__` ☰ `NoneType` object\n"
     ]
    }
   ],
   "source": [
    "tq84_reflect(searcher)"
   ]
  },
  {
   "cell_type": "code",
   "execution_count": 39,
   "id": "047868d0-0dc4-437d-9f55-be6501bff958",
   "metadata": {},
   "outputs": [],
   "source": [
    "query = np.array([ 0.5, 0.5, 0.5 ]).astype(np.float32)"
   ]
  },
  {
   "cell_type": "code",
   "execution_count": 40,
   "id": "1fa3a38d-385c-4933-ba2d-0a417def9e86",
   "metadata": {},
   "outputs": [],
   "source": [
    "# neighbours is an array of indexes for nearest neighbors. distances is an array with their corresponding squared_L2 distances\n",
    "neighbors, distances = searcher.search(query, final_num_neighbors=10)"
   ]
  },
  {
   "cell_type": "code",
   "execution_count": 13,
   "id": "bd99b744-20bf-4c05-8563-ce467cad51e5",
   "metadata": {},
   "outputs": [
    {
     "data": {
      "text/plain": [
       "10"
      ]
     },
     "execution_count": 13,
     "metadata": {},
     "output_type": "execute_result"
    }
   ],
   "source": [
    "len(neighbors)"
   ]
  },
  {
   "cell_type": "code",
   "execution_count": 41,
   "id": "08c2cbc4-bcd1-451b-a945-55044258cbce",
   "metadata": {},
   "outputs": [
    {
     "name": "stdout",
     "output_type": "stream",
     "text": [
      "(3000898, 2.987506e-06)\n",
      "(3000494, 5.527281e-06)\n",
      "(3000081, 7.2080397e-06)\n",
      "(3000750, 7.3085826e-06)\n",
      "(3000938, 7.857942e-06)\n",
      "(3000435, 7.945898e-06)\n",
      "(3000149, 8.9053265e-06)\n",
      "(3000821, 9.354817e-06)\n",
      "(3000100, 1.0098625e-05)\n",
      "(3000381, 1.0671137e-05)\n"
     ]
    }
   ],
   "source": [
    "for x in zip(neighbors,distances): print(x)"
   ]
  }
 ],
 "metadata": {
  "kernelspec": {
   "display_name": "Python 3 (ipykernel)",
   "language": "python",
   "name": "python3"
  },
  "language_info": {
   "codemirror_mode": {
    "name": "ipython",
    "version": 3
   },
   "file_extension": ".py",
   "mimetype": "text/x-python",
   "name": "python",
   "nbconvert_exporter": "python",
   "pygments_lexer": "ipython3",
   "version": "3.11.2"
  }
 },
 "nbformat": 4,
 "nbformat_minor": 5
}
