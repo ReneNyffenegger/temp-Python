{
 "cells": [
  {
   "cell_type": "code",
   "execution_count": 1,
   "id": "47245815-cfb5-4cb4-8461-0f25da2ae442",
   "metadata": {},
   "outputs": [
    {
     "name": "stderr",
     "output_type": "stream",
     "text": [
      "2023-10-18 12:55:24.548693: I tensorflow/tsl/cuda/cudart_stub.cc:28] Could not find cuda drivers on your machine, GPU will not be used.\n",
      "2023-10-18 12:55:24.584690: I tensorflow/tsl/cuda/cudart_stub.cc:28] Could not find cuda drivers on your machine, GPU will not be used.\n",
      "2023-10-18 12:55:24.585536: I tensorflow/core/platform/cpu_feature_guard.cc:182] This TensorFlow binary is optimized to use available CPU instructions in performance-critical operations.\n",
      "To enable the following instructions: AVX2 FMA, in other operations, rebuild TensorFlow with the appropriate compiler flags.\n",
      "2023-10-18 12:55:25.237115: W tensorflow/compiler/tf2tensorrt/utils/py_utils.cc:38] TF-TRT Warning: Could not find TensorRT\n"
     ]
    }
   ],
   "source": [
    "import numpy as np\n",
    "import scann"
   ]
  },
  {
   "cell_type": "code",
   "execution_count": 41,
   "id": "cd3df24d-b640-4a74-a393-929546962499",
   "metadata": {},
   "outputs": [],
   "source": [
    "x = np.array([\n",
    "       np.array([\n",
    "          np.random.normal(10, 1),\n",
    "          np.random.normal( 0, 1),\n",
    "          np.random.normal( 0, 1)\n",
    "     ])\n",
    "     for _ in range(1000000)\n",
    "   ]).astype(np.float32)\n",
    "\n",
    "y = np.array([\n",
    "       np.array([\n",
    "          np.random.normal( 0, 1),\n",
    "          np.random.normal(10, 1),\n",
    "          np.random.normal( 0, 1)\n",
    "     ])\n",
    "     for _ in range(1000000)\n",
    "   ]).astype(np.float32)\n",
    "\n",
    "z = np.array([\n",
    "       np.array([\n",
    "          np.random.normal( 0, 1),\n",
    "          np.random.normal( 0, 1),\n",
    "          np.random.normal(10, 1)\n",
    "     ])\n",
    "     for _ in range(1000000)\n",
    "   ]).astype(np.float32)\n",
    "    "
   ]
  },
  {
   "cell_type": "code",
   "execution_count": 13,
   "id": "7d8e4048-a737-447a-9075-fa719d9f6cec",
   "metadata": {},
   "outputs": [],
   "source": [
    "needle = np.array([np.array([\n",
    "     np.random.normal( 5, 1),\n",
    "     np.random.normal( 5, 1),\n",
    "     np.random.normal( 5, 1)\n",
    "])])"
   ]
  },
  {
   "cell_type": "code",
   "execution_count": 42,
   "id": "5fa41c90-fb09-412a-911b-23a0bd710769",
   "metadata": {},
   "outputs": [],
   "source": [
    "needles = np.array([\n",
    "       np.array([\n",
    "          np.random.normal( 5, 1),\n",
    "          np.random.normal( 5, 1),\n",
    "          np.random.normal( 5, 1)\n",
    "     ])\n",
    "     for _ in range(1000)\n",
    "   ]).astype(np.float32)"
   ]
  },
  {
   "cell_type": "code",
   "execution_count": 35,
   "id": "7a986e40-38c1-4e18-92a1-e939e17906d8",
   "metadata": {
    "scrolled": true
   },
   "outputs": [
    {
     "data": {
      "text/plain": [
       "array([[10.042362  , -0.5758852 , -0.37699685],\n",
       "       [ 9.631416  , -0.5559351 , -0.12972423],\n",
       "       [10.329786  ,  0.2505935 , -0.8420398 ],\n",
       "       ...,\n",
       "       [11.015576  ,  0.32923988, -1.4416692 ],\n",
       "       [ 9.895424  ,  1.11646   ,  2.2240582 ],\n",
       "       [ 8.93433   , -1.6914378 ,  1.4024101 ]], dtype=float32)"
      ]
     },
     "execution_count": 35,
     "metadata": {},
     "output_type": "execute_result"
    }
   ],
   "source": [
    "x"
   ]
  },
  {
   "cell_type": "code",
   "execution_count": 43,
   "id": "c2364d70-ccea-4de9-933c-34fbfaa1d622",
   "metadata": {},
   "outputs": [
    {
     "data": {
      "text/plain": [
       "array([[6.2346635, 3.3157349, 4.383872 ],\n",
       "       [4.101266 , 5.078736 , 4.376109 ],\n",
       "       [5.1757627, 3.2648637, 4.5233755],\n",
       "       ...,\n",
       "       [5.3403163, 4.5867066, 3.6266282],\n",
       "       [5.454832 , 4.9187737, 5.3977494],\n",
       "       [5.526165 , 4.3032765, 5.9684315]], dtype=float32)"
      ]
     },
     "execution_count": 43,
     "metadata": {},
     "output_type": "execute_result"
    }
   ],
   "source": [
    "needles"
   ]
  },
  {
   "cell_type": "code",
   "execution_count": 44,
   "id": "c6553caa-4431-4e77-a0c6-66c88cf2f675",
   "metadata": {
    "scrolled": true
   },
   "outputs": [],
   "source": [
    "data = np.concatenate( (x, y, needles, z) )"
   ]
  },
  {
   "cell_type": "code",
   "execution_count": 45,
   "id": "2d1173f7-cc83-46cf-b72f-fee342fd507b",
   "metadata": {},
   "outputs": [
    {
     "name": "stderr",
     "output_type": "stream",
     "text": [
      "2023-10-18 13:02:55.507881: I scann/partitioning/partitioner_factory_base.cc:59] Size of sampled dataset for training partition: 249914\n",
      "2023-10-18 13:02:56.651966: I ./scann/partitioning/kmeans_tree_partitioner_utils.h:84] PartitionerFactory ran in 1.144004182s.\n"
     ]
    }
   ],
   "source": [
    "searcher = scann.scann_ops_pybind.builder(\n",
    "    data,                             # numpy array containing the data points to be indexed\n",
    "    num_neighbors        =  20,              # the number of neighbors to search for\n",
    "    distance_measure     = \"squared_l2\"      # the distance metric to use (e.g., 'dot_product' or 'squared_l2')\n",
    ").tree(                                  # .tree() is a method that can be used after(?) calling .build() to further refine the tree structure of the index. .tree() allows us to fine-tune the tree structure of the index to optimize the search performance for a given dataset and use case. It takes several arguments: \n",
    "    num_leaves           =  2000,          # num_leaves: the maximum number of leaves in the tree . This can be used to control the balance between search speed and memory usage. Increasing num_leaves will improve the search accuracy but also increase the memory usage.\n",
    "    num_leaves_to_search =   100,          #num_leaves_to_search: the number of leaves to search during the query phase\n",
    "    training_sample_size = 250000           # training_sample_size: the number of vectors to use for training the tree.\n",
    ").score_ah(                              # score_ah() is a method in ScaNN that sets the parameters for the asymmetric hash function used in the indexing process. It is called after .tree() because the tree structure is required to set these parameters.\n",
    "    2,                                   # num_neighbors sets the number of neighbors to consider when selecting the threshold for asymmetric hashing   \n",
    "    anisotropic_quantization_threshold = 0.2 # anisotropic_quantization_threshold controls how many different quantization levels to use for each dimension in the hash function (maller values generally resulting in better accuracy at the cost of higher indexing time and memory usage.)\n",
    ").reorder(\n",
    "    5\n",
    ").build()  # Finally, the ScannBuilder object's build() method is called to create the index."
   ]
  },
  {
   "cell_type": "code",
   "execution_count": 46,
   "id": "047868d0-0dc4-437d-9f55-be6501bff958",
   "metadata": {},
   "outputs": [],
   "source": [
    "query = np.array([ 5.0, 5.0, 5.0 ]).astype(np.float32)"
   ]
  },
  {
   "cell_type": "code",
   "execution_count": 47,
   "id": "1fa3a38d-385c-4933-ba2d-0a417def9e86",
   "metadata": {},
   "outputs": [],
   "source": [
    "# neighbours is an array of indexes for nearest neighbors. distances is an array with their corresponding squared_L2 distances\n",
    "neighbors, distances = searcher.search(query, final_num_neighbors=30)"
   ]
  },
  {
   "cell_type": "code",
   "execution_count": 48,
   "id": "bd99b744-20bf-4c05-8563-ce467cad51e5",
   "metadata": {},
   "outputs": [
    {
     "data": {
      "text/plain": [
       "5"
      ]
     },
     "execution_count": 48,
     "metadata": {},
     "output_type": "execute_result"
    }
   ],
   "source": [
    "len(neighbors)"
   ]
  },
  {
   "cell_type": "code",
   "execution_count": 49,
   "id": "08c2cbc4-bcd1-451b-a945-55044258cbce",
   "metadata": {},
   "outputs": [
    {
     "name": "stdout",
     "output_type": "stream",
     "text": [
      "(2000005, 1.470756)\n",
      "(2000004, 1.5226725)\n",
      "(2000003, 1.5736524)\n",
      "(2000002, 3.2687614)\n",
      "(2000000, 4.740757)\n"
     ]
    }
   ],
   "source": [
    "for x in zip(neighbors,distances): print(x)"
   ]
  }
 ],
 "metadata": {
  "kernelspec": {
   "display_name": "Python 3 (ipykernel)",
   "language": "python",
   "name": "python3"
  },
  "language_info": {
   "codemirror_mode": {
    "name": "ipython",
    "version": 3
   },
   "file_extension": ".py",
   "mimetype": "text/x-python",
   "name": "python",
   "nbconvert_exporter": "python",
   "pygments_lexer": "ipython3",
   "version": "3.11.2"
  }
 },
 "nbformat": 4,
 "nbformat_minor": 5
}
