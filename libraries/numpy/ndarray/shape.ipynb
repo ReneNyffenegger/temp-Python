{
 "cells": [
  {
   "cell_type": "code",
   "execution_count": 15,
   "id": "6e499380",
   "metadata": {},
   "outputs": [
    {
     "name": "stdout",
     "output_type": "stream",
     "text": [
      "(3,)\n",
      "(2, 3)\n",
      "(2, 3, 4)\n"
     ]
    }
   ],
   "source": [
    "import numpy as np\n",
    "\n",
    "\n",
    "x = np.array([ 1, 2, 3 ])\n",
    "\n",
    "y = np.array([ ['a', 'b', 'c'],\n",
    "               [ 1 ,  2 ,  3 ]\n",
    "             ])\n",
    "\n",
    "z = np.array([ \n",
    "               [\n",
    "                  ['a', 'b', 'c', 'd'],\n",
    "                  [ 1 ,  2 ,  3 ,  4 ],\n",
    "                  ['.', ',', '!', '?']\n",
    "               ],[\n",
    "                  ['w', 'x', 'y', 'z'],\n",
    "                  ['i', 'j', 'k', 'l'],\n",
    "                  ['+', '-', '*', '/']\n",
    "               ]\n",
    "             ])\n",
    "\n",
    "print(x.shape)\n",
    "print(y.shape)\n",
    "print(z.shape)"
   ]
  },
  {
   "cell_type": "code",
   "execution_count": null,
   "id": "6d1f71c5",
   "metadata": {},
   "outputs": [],
   "source": [
    "x = np.ndarray( [ 1, 2, 3, 4 ])\n",
    "print(x.shape)"
   ]
  }
 ],
 "metadata": {
  "kernelspec": {
   "display_name": "Python 3 (ipykernel)",
   "language": "python",
   "name": "python3"
  },
  "language_info": {
   "codemirror_mode": {
    "name": "ipython",
    "version": 3
   },
   "file_extension": ".py",
   "mimetype": "text/x-python",
   "name": "python",
   "nbconvert_exporter": "python",
   "pygments_lexer": "ipython3",
   "version": "3.9.2"
  }
 },
 "nbformat": 4,
 "nbformat_minor": 5
}
